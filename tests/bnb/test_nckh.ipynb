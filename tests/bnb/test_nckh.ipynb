{
 "cells": [
  {
   "cell_type": "markdown",
   "metadata": {},
   "source": [
    "## Testing - MILP"
   ]
  },
  {
   "cell_type": "markdown",
   "metadata": {},
   "source": [
    "$$\n",
    "\\begin{split}\n",
    "    (P) \\quad z_p= & 5.5x_1 + 2.1x_2 + 3x_3 \\quad \\longrightarrow Max \\\\\n",
    "    & \\left\\{\\begin{split}\n",
    "    & -x_1 + x_2 + x_3 \\leq 2 \\\\\n",
    "    & 8x_1 + 2x_2 + x_3\\leq 17 \\\\\n",
    "    & 9x_1 + x_2 + 6x_3 \\leq 20 \\\\\n",
    "    &x_i \\geq 0 , \\: i=\\overline{\\rm 1, \\ldots ,3} \\\\\n",
    "    \\end{split}\\right. \\\\\n",
    "\\end{split}\n",
    "$$"
   ]
  },
  {
   "cell_type": "code",
   "execution_count": 4,
   "metadata": {},
   "outputs": [
    {
     "name": "stdout",
     "output_type": "stream",
     "text": [
      "Gia tri toi uu = -15.463333333333335\n",
      "Bien toi uu = [1.38333333 2.55       0.83333333]\n"
     ]
    }
   ],
   "source": [
    "from scipy.optimize import linprog\n",
    "\n",
    "c = [-5.5, -2.1, -3]\n",
    "A = [[-1, 1, 1], [8, 2, 1], [9, 1, 6]]\n",
    "b = [2, 17, 20]\n",
    "\n",
    "x0_bounds = (0, None)\n",
    "x1_bounds = (0, None)\n",
    "x2_bounds = (0, None)\n",
    "\n",
    "res = linprog(c, A_ub=A, b_ub=b, bounds=[x0_bounds, x1_bounds, x2_bounds])\n",
    "\n",
    "print('Gia tri toi uu =', res.fun)\n",
    "print('Bien toi uu =', res.x)"
   ]
  },
  {
   "cell_type": "markdown",
   "metadata": {},
   "source": [
    "# Choose $x_1$"
   ]
  },
  {
   "cell_type": "markdown",
   "metadata": {},
   "source": [
    "$x^1_1 \\leq 1$"
   ]
  },
  {
   "cell_type": "markdown",
   "metadata": {},
   "source": [
    "$$\n",
    "\\begin{split}\n",
    "    (P_1) \\quad z_p= & 5.5x^1_1 + 2.1x^1_2 + 3x^1_3 \\quad \\longrightarrow Max \\\\\n",
    "    & \\left\\{\\begin{split}\n",
    "    & -x^1_1 + x^1_2 + x^1_3 \\leq 2 \\\\\n",
    "    & 8x^1_1 + 2x^1_2 + x^1_3\\leq 17 \\\\\n",
    "    & 9x^1_1 + x^1_2 + 6x^1_3 \\leq 20 \\\\\n",
    "    & x^1_1 \\leq 1 \\\\\n",
    "    &x^1_i \\geq 0 , \\: i=\\overline{\\rm 1, \\ldots ,3} \\\\\n",
    "    \\end{split}\\right. \\\\\n",
    "\\end{split}\n",
    "$$"
   ]
  },
  {
   "cell_type": "code",
   "execution_count": 91,
   "metadata": {},
   "outputs": [
    {
     "name": "stdout",
     "output_type": "stream",
     "text": [
      "Gia tri toi uu = -13.24\n",
      "Bien toi uu = [1.  1.4 1.6]\n"
     ]
    }
   ],
   "source": [
    "from scipy.optimize import linprog\n",
    "\n",
    "c = [-5.5, -2.1, -3]\n",
    "A = [[-1, 1, 1], [8, 2, 1], [9, 1, 6], [1, 0, 0]]\n",
    "b = [2, 17, 20, 1]\n",
    "\n",
    "x0_bounds = (0, None)\n",
    "x1_bounds = (0, None)\n",
    "x2_bounds = (0, None)\n",
    "\n",
    "res = linprog(c, A_ub=A, b_ub=b, bounds=[x0_bounds, x1_bounds, x2_bounds])\n",
    "\n",
    "print('Gia tri toi uu =', res.fun)\n",
    "print('Bien toi uu =', res.x)"
   ]
  },
  {
   "cell_type": "markdown",
   "metadata": {},
   "source": [
    "$x^3_2 \\leq 1$"
   ]
  },
  {
   "cell_type": "markdown",
   "metadata": {},
   "source": [
    "$$\n",
    "\\begin{split}\n",
    "    (P_3) \\quad z_p= & 5.5x^3_1 + 2.1x^3_2 + 3x^3_3 \\quad \\longrightarrow Max \\\\\n",
    "    & \\left\\{\\begin{split}\n",
    "    & -x^3_1 + x^3_2 + x^3_3 \\leq 2 \\\\\n",
    "    & 8x^3_1 + 2x^3_2 + x^3_3\\leq 17 \\\\\n",
    "    & 9x^3_1 + x^3_2 + 6x^3_3 \\leq 20 \\\\\n",
    "    & x^3_1 \\leq 1 \\\\\n",
    "    & x^3_2 \\leq 1 \\\\\n",
    "    &x^3_i \\geq 0 , \\: i=\\overline{\\rm 1, \\ldots ,3} \\\\\n",
    "    \\end{split}\\right. \\\\\n",
    "\\end{split}\n",
    "$$"
   ]
  },
  {
   "cell_type": "code",
   "execution_count": 1,
   "metadata": {},
   "outputs": [
    {
     "name": "stdout",
     "output_type": "stream",
     "text": [
      "Gia tri toi uu = -12.6\n",
      "Bien toi uu = [1.         1.         1.66666667]\n"
     ]
    }
   ],
   "source": [
    "from scipy.optimize import linprog\n",
    "\n",
    "c = [-5.5, -2.1, -3]\n",
    "A = [[-1, 1, 1], [8, 2, 1], [9, 1, 6], [1, 0, 0], [0, 1, 0]]\n",
    "b = [2, 17, 20, 1, 1]\n",
    "\n",
    "x0_bounds = (0, None)\n",
    "x1_bounds = (0, None)\n",
    "x2_bounds = (0, None)\n",
    "\n",
    "res = linprog(c, A_ub=A, b_ub=b, bounds=[x0_bounds, x1_bounds, x2_bounds])\n",
    "\n",
    "print('Gia tri toi uu =', res.fun)\n",
    "print('Bien toi uu =', res.x)"
   ]
  },
  {
   "cell_type": "markdown",
   "metadata": {},
   "source": [
    "$x^5_3 \\leq 1$"
   ]
  },
  {
   "cell_type": "markdown",
   "metadata": {},
   "source": [
    "$$\n",
    "\\begin{split}\n",
    "    (P_5) \\quad z_p= & 5.5x^5_1 + 2.1x^5_2 + 3x^5_3 \\quad \\longrightarrow Max \\\\\n",
    "    & \\left\\{\\begin{split}\n",
    "    & -x^5_1 + x^5_2 + x^5_3 \\leq 2 \\\\\n",
    "    & 8x^5_1 + 2x^5_2 + x^5_3\\leq 17 \\\\\n",
    "    & 9x^5_1 + x^5_2 + 6x^5_3 \\leq 20 \\\\\n",
    "    & x^5_1 \\leq 1 \\\\\n",
    "    & x^5_2 \\leq 1 \\\\\n",
    "    & x^5_3 \\leq 1 \\\\\n",
    "    &x^5_i \\geq 0 , \\: i=\\overline{\\rm 1, \\ldots ,3} \\\\\n",
    "    \\end{split}\\right. \\\\\n",
    "\\end{split}\n",
    "$$"
   ]
  },
  {
   "cell_type": "code",
   "execution_count": 4,
   "metadata": {},
   "outputs": [
    {
     "name": "stdout",
     "output_type": "stream",
     "text": [
      "Gia tri toi uu = -10.6\n",
      "Bien toi uu = [1. 1. 1.]\n"
     ]
    }
   ],
   "source": [
    "from scipy.optimize import linprog\n",
    "\n",
    "c = [-5.5, -2.1, -3]\n",
    "A = [[-1, 1, 1], [8, 2, 1], [9, 1, 6], [1, 0, 0], [0, 1, 0], [0, 0, 1]]\n",
    "b = [2, 17, 20, 1, 1, 1]\n",
    "\n",
    "x0_bounds = (0, None)\n",
    "x1_bounds = (0, None)\n",
    "x2_bounds = (0, None)\n",
    "\n",
    "res = linprog(c, A_ub=A, b_ub=b, bounds=[x0_bounds, x1_bounds, x2_bounds])\n",
    "\n",
    "print('Gia tri toi uu =', res.fun)\n",
    "print('Bien toi uu =', res.x)"
   ]
  },
  {
   "cell_type": "markdown",
   "metadata": {},
   "source": [
    "$x^6_3 \\geq 2$"
   ]
  },
  {
   "cell_type": "markdown",
   "metadata": {},
   "source": [
    "$$\n",
    "\\begin{split}\n",
    "    (P_6) \\quad z_p= & 5.5x^6_1 + 2.1x^6_2 + 3x^6_3 \\quad \\longrightarrow Max \\\\\n",
    "    & \\left\\{\\begin{split}\n",
    "    & -x^6_1 + x^6_2 + x^6_3 \\leq 2 \\\\\n",
    "    & 8x^6_1 + 2x^6_2 + x^6_3\\leq 17 \\\\\n",
    "    & 9x^6_1 + x^6_2 + 6x^6_3 \\leq 20 \\\\\n",
    "    & x^6_1 \\leq 1 \\\\\n",
    "    & x^6_2 \\leq 1 \\\\\n",
    "    & x^6_3 \\geq 2 \\\\\n",
    "    &x^6_i \\geq 0 , \\: i=\\overline{\\rm 1, \\ldots ,3} \\\\\n",
    "    \\end{split}\\right. \\\\\n",
    "\\end{split}\n",
    "$$"
   ]
  },
  {
   "cell_type": "code",
   "execution_count": 5,
   "metadata": {},
   "outputs": [
    {
     "name": "stdout",
     "output_type": "stream",
     "text": [
      "Gia tri toi uu = -12.08\n",
      "Bien toi uu = [0.8 0.8 2. ]\n"
     ]
    }
   ],
   "source": [
    "from scipy.optimize import linprog\n",
    "\n",
    "c = [-5.5, -2.1, -3]\n",
    "A = [[-1, 1, 1], [8, 2, 1], [9, 1, 6], [1, 0, 0], [0, 1, 0], [0, 0, -1]]\n",
    "b = [2, 17, 20, 1, 1, -2]\n",
    "\n",
    "x0_bounds = (0, None)\n",
    "x1_bounds = (0, None)\n",
    "x2_bounds = (0, None)\n",
    "\n",
    "res = linprog(c, A_ub=A, b_ub=b, bounds=[x0_bounds, x1_bounds, x2_bounds])\n",
    "\n",
    "print('Gia tri toi uu =', res.fun)\n",
    "print('Bien toi uu =', res.x)"
   ]
  },
  {
   "cell_type": "markdown",
   "metadata": {},
   "source": [
    "$x^4_2 \\geq 2$"
   ]
  },
  {
   "cell_type": "markdown",
   "metadata": {},
   "source": [
    "$$\n",
    "\\begin{split}\n",
    "    (P_4) \\quad z_p= & 5.5x^4_1 + 2.1x^4_2 + 3x^4_3 \\quad \\longrightarrow Max \\\\\n",
    "    & \\left\\{\\begin{split}\n",
    "    & -x^4_1 + x^4_2 + x^4_3 \\leq 2 \\\\\n",
    "    & 8x^4_1 + 2x^4_2 + x^4_3\\leq 17 \\\\\n",
    "    & 9x^4_1 + x^4_2 + 6x^4_3 \\leq 20 \\\\\n",
    "    & x^4_1 \\leq 1 \\\\\n",
    "    & x^4_2 \\geq 2 \\\\\n",
    "    &x^4_i \\geq 0 , \\: i=\\overline{\\rm 1, \\ldots ,3} \\\\\n",
    "    \\end{split}\\right. \\\\\n",
    "\\end{split}\n",
    "$$"
   ]
  },
  {
   "cell_type": "code",
   "execution_count": 2,
   "metadata": {},
   "outputs": [
    {
     "name": "stdout",
     "output_type": "stream",
     "text": [
      "Gia tri toi uu = -12.7\n",
      "Bien toi uu = [1. 2. 1.]\n"
     ]
    }
   ],
   "source": [
    "from scipy.optimize import linprog\n",
    "\n",
    "c = [-5.5, -2.1, -3]\n",
    "A = [[-1, 1, 1], [8, 2, 1], [9, 1, 6], [1, 0, 0], [0, -1, 0]]\n",
    "b = [2, 17, 20, 1, -2]\n",
    "\n",
    "x0_bounds = (0, None)\n",
    "x1_bounds = (0, None)\n",
    "x2_bounds = (0, None)\n",
    "\n",
    "res = linprog(c, A_ub=A, b_ub=b, bounds=[x0_bounds, x1_bounds, x2_bounds])\n",
    "\n",
    "print('Gia tri toi uu =', res.fun)\n",
    "print('Bien toi uu =', res.x)"
   ]
  },
  {
   "cell_type": "markdown",
   "metadata": {},
   "source": [
    "$x^2_1 \\geq 2$"
   ]
  },
  {
   "cell_type": "markdown",
   "metadata": {},
   "source": [
    "$$\n",
    "\\begin{split}\n",
    "    (P_2) \\quad z_p= & 5.5x^2_1 + 2.1x^2_2 + 3x^2_3 \\quad \\longrightarrow Max \\\\\n",
    "    & \\left\\{\\begin{split}\n",
    "    & -x^2_1 + x^2_2 + x^2_3 \\leq 2 \\\\\n",
    "    & 8x^2_1 + 2x^2_2 + x^2_3\\leq 17 \\\\\n",
    "    & 9x^2_1 + x^2_2 + 6x^2_3 \\leq 20 \\\\\n",
    "    & x^2_1 \\geq 2 \\\\\n",
    "    &x^2_i \\geq 0 , \\: i=\\overline{\\rm 1, \\ldots ,3} \\\\\n",
    "    \\end{split}\\right. \\\\\n",
    "\\end{split}\n",
    "$$"
   ]
  },
  {
   "cell_type": "code",
   "execution_count": 7,
   "metadata": {},
   "outputs": [
    {
     "name": "stdout",
     "output_type": "stream",
     "text": [
      "Gia tri toi uu = -12.581818181818182\n",
      "Bien toi uu = [2.         0.36363636 0.27272727]\n"
     ]
    }
   ],
   "source": [
    "from scipy.optimize import linprog\n",
    "\n",
    "c = [-5.5, -2.1, -3]\n",
    "A = [[-1, 1, 1], [8, 2, 1], [9, 1, 6], [-1, 0, 0]]\n",
    "b = [2, 17, 20, -2]\n",
    "\n",
    "x0_bounds = (0, None)\n",
    "x1_bounds = (0, None)\n",
    "x2_bounds = (0, None)\n",
    "\n",
    "res = linprog(c, A_ub=A, b_ub=b, bounds=[x0_bounds, x1_bounds, x2_bounds])\n",
    "\n",
    "print('Gia tri toi uu =', res.fun)\n",
    "print('Bien toi uu =', res.x)"
   ]
  },
  {
   "cell_type": "markdown",
   "metadata": {},
   "source": [
    "$x^7_2 \\leq 0$"
   ]
  },
  {
   "cell_type": "markdown",
   "metadata": {},
   "source": [
    "$$\n",
    "\\begin{split}\n",
    "    (P_7) \\quad z_p= & 5.5x^7_1 + 2.1x^7_2 + 3x^7_3 \\quad \\longrightarrow Max \\\\\n",
    "    & \\left\\{\\begin{split}\n",
    "    & -x^7_1 + x^7_2 + x^7_3 \\leq 2 \\\\\n",
    "    & 8x^7_1 + 2x^7_2 + x^7_3\\leq 17 \\\\\n",
    "    & 9x^7_1 + x^7_2 + 6x^7_3 \\leq 20 \\\\\n",
    "    & x^7_1 \\geq 2 \\\\\n",
    "    & x^7_2 \\leq 0 \\\\\n",
    "    &x^7_i \\geq 0 , \\: i=\\overline{\\rm 1, \\ldots ,3} \\\\\n",
    "    \\end{split}\\right. \\\\\n",
    "\\end{split}\n",
    "$$"
   ]
  },
  {
   "cell_type": "code",
   "execution_count": 8,
   "metadata": {},
   "outputs": [
    {
     "name": "stdout",
     "output_type": "stream",
     "text": [
      "Gia tri toi uu = -12.1025641025641\n",
      "Bien toi uu = [ 2.1025641  -0.          0.17948718]\n"
     ]
    }
   ],
   "source": [
    "from scipy.optimize import linprog\n",
    "\n",
    "c = [-5.5, -2.1, -3]\n",
    "A = [[-1, 1, 1], [8, 2, 1], [9, 1, 6], [-1, 0, 0], [0, 1, 0]]\n",
    "b = [2, 17, 20, -2, 0]\n",
    "\n",
    "x0_bounds = (0, None)\n",
    "x1_bounds = (0, None)\n",
    "x2_bounds = (0, None)\n",
    "\n",
    "res = linprog(c, A_ub=A, b_ub=b, bounds=[x0_bounds, x1_bounds, x2_bounds])\n",
    "\n",
    "print('Gia tri toi uu =', res.fun)\n",
    "print('Bien toi uu =', res.x)"
   ]
  },
  {
   "cell_type": "markdown",
   "metadata": {},
   "source": [
    "$x^8_2 \\geq 1$"
   ]
  },
  {
   "cell_type": "markdown",
   "metadata": {},
   "source": [
    "$$\n",
    "\\begin{split}\n",
    "    (P_8) \\quad z_p= & 5.5x^8_1 + 2.1x^8_2 + 3x^8_3 \\quad \\longrightarrow Max \\\\\n",
    "    & \\left\\{\\begin{split}\n",
    "    & -x^8_1 + x^8_2 + x^8_3 \\leq 2 \\\\\n",
    "    & 8x^8_1 + 2x^8_2 + x^8_3\\leq 17 \\\\\n",
    "    & 9x^8_1 + x^8_2 + 6x^8_3 \\leq 20 \\\\\n",
    "    & x^8_1 \\geq 2 \\\\\n",
    "    & x^8_2 \\geq 1 \\\\\n",
    "    &x^8_i \\geq 0 , \\: i=\\overline{\\rm 1, \\ldots ,3} \\\\\n",
    "    \\end{split}\\right. \\\\\n",
    "\\end{split}\n",
    "$$"
   ]
  },
  {
   "cell_type": "code",
   "execution_count": 9,
   "metadata": {},
   "outputs": [
    {
     "name": "stdout",
     "output_type": "stream",
     "text": [
      "Gia tri toi uu = None\n",
      "Bien toi uu = None\n"
     ]
    }
   ],
   "source": [
    "from scipy.optimize import linprog\n",
    "\n",
    "c = [-5.5, -2.1, -3]\n",
    "A = [[-1, 1, 1], [8, 2, 1], [9, 1, 6], [-1, 0, 0], [0, -1, 0]]\n",
    "b = [2, 17, 20, -2, -1]\n",
    "\n",
    "x0_bounds = (0, None)\n",
    "x1_bounds = (0, None)\n",
    "x2_bounds = (0, None)\n",
    "\n",
    "res = linprog(c, A_ub=A, b_ub=b, bounds=[x0_bounds, x1_bounds, x2_bounds])\n",
    "\n",
    "print('Gia tri toi uu =', res.fun)\n",
    "print('Bien toi uu =', res.x)"
   ]
  },
  {
   "cell_type": "markdown",
   "metadata": {},
   "source": [
    "---"
   ]
  },
  {
   "cell_type": "markdown",
   "metadata": {},
   "source": [
    "# Choose $x_2$"
   ]
  },
  {
   "cell_type": "markdown",
   "metadata": {},
   "source": [
    "$$\n",
    "\\begin{split}\n",
    "    (P_2^1) \\quad z_p= & 5.5x_1 + 2.1x_2 + 3x_3 \\quad \\longrightarrow Max \\\\\n",
    "    & \\left\\{\\begin{split}\n",
    "    & -x_1 + x_2 + x_3 \\leq 2 \\\\\n",
    "    & 8x_1 + 2x_2 + x_3\\leq 17 \\\\\n",
    "    & 9x_1 + x_2 + 6x_3 \\leq 20 \\\\\n",
    "    & x_2 \\leq 2 \\\\\n",
    "    &x_i \\geq 0 , \\: i=\\overline{\\rm 1, \\ldots ,3} \\\\\n",
    "    \\end{split}\\right. \\\\\n",
    "\\end{split}\n",
    "$$"
   ]
  },
  {
   "cell_type": "code",
   "execution_count": 95,
   "metadata": {},
   "outputs": [
    {
     "name": "stdout",
     "output_type": "stream",
     "text": [
      "Gia tri toi uu = -14.738461538461536\n",
      "Bien toi uu = [1.53846154 2.         0.69230769]\n"
     ]
    }
   ],
   "source": [
    "from scipy.optimize import linprog\n",
    "\n",
    "c = [-5.5, -2.1, -3]\n",
    "A = [[-1, 1, 1], [8, 2, 1], [9, 1, 6], [0, 1, 0]]\n",
    "b = [2, 17, 20, 2]\n",
    "\n",
    "x0_bounds = (0, None)\n",
    "x1_bounds = (0, None)\n",
    "x2_bounds = (0, None)\n",
    "\n",
    "res = linprog(c, A_ub=A, b_ub=b, bounds=[x0_bounds, x1_bounds, x2_bounds])\n",
    "\n",
    "print('Gia tri toi uu =', res.fun)\n",
    "print('Bien toi uu =', res.x)"
   ]
  },
  {
   "cell_type": "markdown",
   "metadata": {},
   "source": [
    "$$\n",
    "\\begin{split}\n",
    "    (P_2^2) \\quad z_p= & 5.5x_1 + 2.1x_2 + 3x_3 \\quad \\longrightarrow Max \\\\\n",
    "    & \\left\\{\\begin{split}\n",
    "    & -x_1 + x_2 + x_3 \\leq 2 \\\\\n",
    "    & 8x_1 + 2x_2 + x_3\\leq 17 \\\\\n",
    "    & 9x_1 + x_2 + 6x_3 \\leq 20 \\\\\n",
    "    & x_2 \\geq 3 \\\\\n",
    "    &x_i \\geq 0 , \\: i=\\overline{\\rm 1, \\ldots ,3} \\\\\n",
    "    \\end{split}\\right. \\\\\n",
    "\\end{split}\n",
    "$$"
   ]
  },
  {
   "cell_type": "code",
   "execution_count": 97,
   "metadata": {},
   "outputs": [
    {
     "name": "stdout",
     "output_type": "stream",
     "text": [
      "Gia tri toi uu = -14.633333333333333\n",
      "Bien toi uu = [1.33333333 3.         0.33333333]\n"
     ]
    }
   ],
   "source": [
    "from scipy.optimize import linprog\n",
    "\n",
    "c = [-5.5, -2.1, -3]\n",
    "A = [[-1, 1, 1], [8, 2, 1], [9, 1, 6], [0, -1, 0]]\n",
    "b = [2, 17, 20, -3]\n",
    "\n",
    "x0_bounds = (0, None)\n",
    "x1_bounds = (0, None)\n",
    "x2_bounds = (0, None)\n",
    "\n",
    "res = linprog(c, A_ub=A, b_ub=b, bounds=[x0_bounds, x1_bounds, x2_bounds])\n",
    "\n",
    "print('Gia tri toi uu =', res.fun)\n",
    "print('Bien toi uu =', res.x)"
   ]
  },
  {
   "cell_type": "markdown",
   "metadata": {},
   "source": [
    "$$\n",
    "\\begin{split}\n",
    "    (P_3^1) \\quad z_p= & 5.5x_1 + 2.1x_2 + 3x_3 \\quad \\longrightarrow Max \\\\\n",
    "    & \\left\\{\\begin{split}\n",
    "    & -x_1 + x_2 + x_3 \\leq 2 \\\\\n",
    "    & 8x_1 + 2x_2 + x_3\\leq 17 \\\\\n",
    "    & 9x_1 + x_2 + 6x_3 \\leq 20 \\\\\n",
    "    & x_3 \\leq 0 \\\\\n",
    "    &x_i \\geq 0 , \\: i=\\overline{\\rm 1, \\ldots ,3} \\\\\n",
    "    \\end{split}\\right. \\\\\n",
    "\\end{split}\n",
    "$$"
   ]
  },
  {
   "cell_type": "code",
   "execution_count": 99,
   "metadata": {},
   "outputs": [
    {
     "name": "stdout",
     "output_type": "stream",
     "text": [
      "Gia tri toi uu = -14.08\n",
      "Bien toi uu = [ 1.3  3.3 -0. ]\n"
     ]
    }
   ],
   "source": [
    "from scipy.optimize import linprog\n",
    "\n",
    "c = [-5.5, -2.1, -3]\n",
    "A = [[-1, 1, 1], [8, 2, 1], [9, 1, 6], [0, 0, 1]]\n",
    "b = [2, 17, 20, 0]\n",
    "\n",
    "x0_bounds = (0, None)\n",
    "x1_bounds = (0, None)\n",
    "x2_bounds = (0, None)\n",
    "\n",
    "res = linprog(c, A_ub=A, b_ub=b, bounds=[x0_bounds, x1_bounds, x2_bounds])\n",
    "\n",
    "print('Gia tri toi uu =', res.fun)\n",
    "print('Bien toi uu =', res.x)"
   ]
  },
  {
   "cell_type": "markdown",
   "metadata": {},
   "source": [
    "$$\n",
    "\\begin{split}\n",
    "    (P_3^2) \\quad z_p= & 5.5x_1 + 2.1x_2 + 3x_3 \\quad \\longrightarrow Max \\\\\n",
    "    & \\left\\{\\begin{split}\n",
    "    & -x_1 + x_2 + x_3 \\leq 2 \\\\\n",
    "    & 8x_1 + 2x_2 + x_3\\leq 17 \\\\\n",
    "    & 9x_1 + x_2 + 6x_3 \\leq 20 \\\\\n",
    "    & x_3 \\geq 1 \\\\\n",
    "    &x_i \\geq 0 , \\: i=\\overline{\\rm 1, \\ldots ,3} \\\\\n",
    "    \\end{split}\\right. \\\\\n",
    "\\end{split}\n",
    "$$"
   ]
  },
  {
   "cell_type": "code",
   "execution_count": 102,
   "metadata": {},
   "outputs": [
    {
     "name": "stdout",
     "output_type": "stream",
     "text": [
      "Gia tri toi uu = -14.98\n",
      "Bien toi uu = [1.3 2.3 1. ]\n"
     ]
    }
   ],
   "source": [
    "from scipy.optimize import linprog\n",
    "\n",
    "c = [-5.5, -2.1, -3]\n",
    "A = [[-1, 1, 1], [8, 2, 1], [9, 1, 6], [0, 0, -1]]\n",
    "b = [2, 17, 20, -1]\n",
    "\n",
    "x0_bounds = (0, None)\n",
    "x1_bounds = (0, None)\n",
    "x2_bounds = (0, None)\n",
    "\n",
    "res = linprog(c, A_ub=A, b_ub=b, bounds=[x0_bounds, x1_bounds, x2_bounds])\n",
    "\n",
    "print('Gia tri toi uu =', res.fun)\n",
    "print('Bien toi uu =', res.x)"
   ]
  },
  {
   "cell_type": "markdown",
   "metadata": {},
   "source": [
    "$$\n",
    "\\begin{split}\n",
    "    (P_4^1) \\quad z_p= & 5.5x_1 + 2.1x_2 + 3x_3 \\quad \\longrightarrow Max \\\\\n",
    "    & \\left\\{\\begin{split}\n",
    "    & -x_1 + x_2 + x_3 \\leq 2 \\\\\n",
    "    & 8x_1 + 2x_2 + x_3\\leq 17 \\\\\n",
    "    & 9x_1 + x_2 + 6x_3 \\leq 20 \\\\\n",
    "    & x_1 \\leq 1 \\\\\n",
    "    & x_2 \\leq 1 \\\\\n",
    "    &x_i \\geq 0 , \\: i=\\overline{\\rm 1, \\ldots ,3} \\\\\n",
    "    \\end{split}\\right. \\\\\n",
    "\\end{split}\n",
    "$$"
   ]
  },
  {
   "cell_type": "code",
   "execution_count": 110,
   "metadata": {},
   "outputs": [
    {
     "name": "stdout",
     "output_type": "stream",
     "text": [
      "Gia tri toi uu = -12.6\n",
      "Bien toi uu = [1.         1.         1.66666667]\n"
     ]
    }
   ],
   "source": [
    "from scipy.optimize import linprog\n",
    "\n",
    "c = [-5.5, -2.1, -3]\n",
    "A = [[-1, 1, 1], [8, 2, 1], [9, 1, 6], [1, 0, 0], [0, 1, 0]]\n",
    "b = [2, 17, 20, 1, 1]\n",
    "\n",
    "x0_bounds = (0, None)\n",
    "x1_bounds = (0, None)\n",
    "x2_bounds = (0, None)\n",
    "\n",
    "res = linprog(c, A_ub=A, b_ub=b, bounds=[x0_bounds, x1_bounds, x2_bounds])\n",
    "\n",
    "print('Gia tri toi uu =', res.fun)\n",
    "print('Bien toi uu =', res.x)"
   ]
  },
  {
   "cell_type": "markdown",
   "metadata": {},
   "source": [
    "$$\n",
    "\\begin{split}\n",
    "    (P_{16}^1) \\quad z_p= & 5.5x_1 + 2.1x_2 + 3x_3 \\quad \\longrightarrow Max \\\\\n",
    "    & \\left\\{\\begin{split}\n",
    "    & -x_1 + x_2 + x_3 \\leq 2 \\\\\n",
    "    & 8x_1 + 2x_2 + x_3\\leq 17 \\\\\n",
    "    & 9x_1 + x_2 + 6x_3 \\leq 20 \\\\\n",
    "    & x_1 \\leq 1 \\\\\n",
    "    & x_2 \\leq 1 \\\\\n",
    "    & x_3 \\leq 1 \\\\\n",
    "    &x_i \\geq 0 , \\: i=\\overline{\\rm 1, \\ldots ,3} \\\\\n",
    "    \\end{split}\\right. \\\\\n",
    "\\end{split}\n",
    "$$"
   ]
  },
  {
   "cell_type": "code",
   "execution_count": 111,
   "metadata": {},
   "outputs": [
    {
     "name": "stdout",
     "output_type": "stream",
     "text": [
      "Gia tri toi uu = -10.6\n",
      "Bien toi uu = [1. 1. 1.]\n"
     ]
    }
   ],
   "source": [
    "from scipy.optimize import linprog\n",
    "\n",
    "c = [-5.5, -2.1, -3]\n",
    "A = [[-1, 1, 1], [8, 2, 1], [9, 1, 6], [1, 0, 0], [0, 1, 0], [0, 0, 1]]\n",
    "b = [2, 17, 20, 1, 1, 1]\n",
    "\n",
    "x0_bounds = (0, None)\n",
    "x1_bounds = (0, None)\n",
    "x2_bounds = (0, None)\n",
    "\n",
    "res = linprog(c, A_ub=A, b_ub=b, bounds=[x0_bounds, x1_bounds, x2_bounds])\n",
    "\n",
    "print('Gia tri toi uu =', res.fun)\n",
    "print('Bien toi uu =', res.x)"
   ]
  },
  {
   "cell_type": "markdown",
   "metadata": {},
   "source": [
    "| Bai toan | gia tri toi uu | $x_1$ | $x_2$ | $x_3$ |\n",
    "| ----------- | ----------- | ----------- | ----------- | ----------- |\n",
    "| $P_1^1$ | 13.24 | 1 | 1.4 | 1.6 |\n",
    "| $P_1^2$ | 12.58 | 2 | .36 | .27 |\n",
    "| $P_2^1$ | 14.73 | 1.53 | 2 | .69 |\n",
    "| $P_2^2$ | 14.63 | 1.33 | 3 | .33 |\n",
    "| $P_3^1$ | 14.08 | 1.3 | 3.3 | 0 |\n",
    "| $P_3^2$ | 14.98 | 1.3 | 2.3 | 1 |\n"
   ]
  },
  {
   "cell_type": "code",
   "execution_count": 107,
   "metadata": {},
   "outputs": [
    {
     "data": {
      "image/svg+xml": [
       "<?xml version=\"1.0\" encoding=\"UTF-8\" standalone=\"no\"?>\n",
       "<!DOCTYPE svg PUBLIC \"-//W3C//DTD SVG 1.1//EN\"\n",
       " \"http://www.w3.org/Graphics/SVG/1.1/DTD/svg11.dtd\">\n",
       "<!-- Generated by graphviz version 9.0.0 (20230911.1827)\n",
       " -->\n",
       "<!-- Title: G Pages: 1 -->\n",
       "<svg width=\"339pt\" height=\"206pt\"\n",
       " viewBox=\"0.00 0.00 338.50 206.00\" xmlns=\"http://www.w3.org/2000/svg\" xmlns:xlink=\"http://www.w3.org/1999/xlink\">\n",
       "<g id=\"graph0\" class=\"graph\" transform=\"scale(1 1) rotate(0) translate(4 202)\">\n",
       "<title>G</title>\n",
       "<polygon fill=\"white\" stroke=\"none\" points=\"-4,4 -4,-202 334.5,-202 334.5,4 -4,4\"/>\n",
       "<!-- p0 -->\n",
       "<g id=\"node1\" class=\"node\">\n",
       "<title>p0</title>\n",
       "<path fill=\"none\" stroke=\"black\" d=\"M42,-90C42,-90 12,-90 12,-90 6,-90 0,-84 0,-78 0,-78 0,-66 0,-66 0,-60 6,-54 12,-54 12,-54 42,-54 42,-54 48,-54 54,-60 54,-66 54,-66 54,-78 54,-78 54,-84 48,-90 42,-90\"/>\n",
       "<text text-anchor=\"middle\" x=\"27\" y=\"-66.2\" font-family=\"sans-serif\" font-size=\"14.00\" fill=\"#333333\">P0</text>\n",
       "</g>\n",
       "<!-- p0x1 -->\n",
       "<g id=\"node2\" class=\"node\">\n",
       "<title>p0x1</title>\n",
       "<path fill=\"none\" stroke=\"black\" d=\"M135.25,-144C135.25,-144 102,-144 102,-144 96,-144 90,-138 90,-132 90,-132 90,-120 90,-120 90,-114 96,-108 102,-108 102,-108 135.25,-108 135.25,-108 141.25,-108 147.25,-114 147.25,-120 147.25,-120 147.25,-132 147.25,-132 147.25,-138 141.25,-144 135.25,-144\"/>\n",
       "<text text-anchor=\"middle\" x=\"118.62\" y=\"-120.2\" font-family=\"sans-serif\" font-size=\"14.00\" fill=\"#333333\">x1=1.4</text>\n",
       "</g>\n",
       "<!-- p0&#45;&#45;p0x1 -->\n",
       "<g id=\"edge1\" class=\"edge\">\n",
       "<title>p0&#45;&#45;p0x1</title>\n",
       "<path fill=\"none\" stroke=\"black\" d=\"M54.41,-87.91C65.46,-94.57 78.31,-102.31 89.54,-109.08\"/>\n",
       "</g>\n",
       "<!-- p0x2 -->\n",
       "<g id=\"node3\" class=\"node\">\n",
       "<title>p0x2</title>\n",
       "<path fill=\"none\" stroke=\"black\" d=\"M135.25,-90C135.25,-90 102,-90 102,-90 96,-90 90,-84 90,-78 90,-78 90,-66 90,-66 90,-60 96,-54 102,-54 102,-54 135.25,-54 135.25,-54 141.25,-54 147.25,-60 147.25,-66 147.25,-66 147.25,-78 147.25,-78 147.25,-84 141.25,-90 135.25,-90\"/>\n",
       "<text text-anchor=\"middle\" x=\"118.62\" y=\"-66.2\" font-family=\"sans-serif\" font-size=\"14.00\" fill=\"#333333\">x2=2.5</text>\n",
       "</g>\n",
       "<!-- p0&#45;&#45;p0x2 -->\n",
       "<g id=\"edge2\" class=\"edge\">\n",
       "<title>p0&#45;&#45;p0x2</title>\n",
       "<path fill=\"none\" stroke=\"black\" d=\"M54.41,-72C65.46,-72 78.31,-72 89.54,-72\"/>\n",
       "</g>\n",
       "<!-- p0x3 -->\n",
       "<g id=\"node4\" class=\"node\">\n",
       "<title>p0x3</title>\n",
       "<path fill=\"none\" stroke=\"black\" d=\"M133.62,-36C133.62,-36 103.62,-36 103.62,-36 97.62,-36 91.62,-30 91.62,-24 91.62,-24 91.62,-12 91.62,-12 91.62,-6 97.62,0 103.62,0 103.62,0 133.62,0 133.62,0 139.62,0 145.62,-6 145.62,-12 145.62,-12 145.62,-24 145.62,-24 145.62,-30 139.62,-36 133.62,-36\"/>\n",
       "<text text-anchor=\"middle\" x=\"118.62\" y=\"-12.2\" font-family=\"sans-serif\" font-size=\"14.00\" fill=\"#333333\">x3=.8</text>\n",
       "</g>\n",
       "<!-- p0&#45;&#45;p0x3 -->\n",
       "<g id=\"edge3\" class=\"edge\">\n",
       "<title>p0&#45;&#45;p0x3</title>\n",
       "<path fill=\"none\" stroke=\"black\" d=\"M54.41,-56.09C66.08,-49.06 79.76,-40.81 91.41,-33.8\"/>\n",
       "</g>\n",
       "<!-- p11 -->\n",
       "<g id=\"node5\" class=\"node\">\n",
       "<title>p11</title>\n",
       "<path fill=\"none\" stroke=\"black\" d=\"M225.25,-171C225.25,-171 195.25,-171 195.25,-171 189.25,-171 183.25,-165 183.25,-159 183.25,-159 183.25,-147 183.25,-147 183.25,-141 189.25,-135 195.25,-135 195.25,-135 225.25,-135 225.25,-135 231.25,-135 237.25,-141 237.25,-147 237.25,-147 237.25,-159 237.25,-159 237.25,-165 231.25,-171 225.25,-171\"/>\n",
       "<text text-anchor=\"middle\" x=\"210.25\" y=\"-147.2\" font-family=\"sans-serif\" font-size=\"14.00\" fill=\"#333333\">P11</text>\n",
       "</g>\n",
       "<!-- p0x1&#45;&#45;p11 -->\n",
       "<g id=\"edge4\" class=\"edge\">\n",
       "<title>p0x1&#45;&#45;p11</title>\n",
       "<path fill=\"none\" stroke=\"black\" d=\"M147.49,-134.39C158.8,-137.8 171.79,-141.71 182.93,-145.07\"/>\n",
       "</g>\n",
       "<!-- p12 -->\n",
       "<g id=\"node8\" class=\"node\">\n",
       "<title>p12</title>\n",
       "<path fill=\"none\" stroke=\"black\" d=\"M225.25,-117C225.25,-117 195.25,-117 195.25,-117 189.25,-117 183.25,-111 183.25,-105 183.25,-105 183.25,-93 183.25,-93 183.25,-87 189.25,-81 195.25,-81 195.25,-81 225.25,-81 225.25,-81 231.25,-81 237.25,-87 237.25,-93 237.25,-93 237.25,-105 237.25,-105 237.25,-111 231.25,-117 225.25,-117\"/>\n",
       "<text text-anchor=\"middle\" x=\"210.25\" y=\"-93.2\" font-family=\"sans-serif\" font-size=\"14.00\" fill=\"#333333\">P12</text>\n",
       "</g>\n",
       "<!-- p0x1&#45;&#45;p12 -->\n",
       "<g id=\"edge5\" class=\"edge\">\n",
       "<title>p0x1&#45;&#45;p12</title>\n",
       "<path fill=\"none\" stroke=\"black\" d=\"M147.49,-117.61C158.8,-114.2 171.79,-110.29 182.93,-106.93\"/>\n",
       "</g>\n",
       "<!-- p11x2 -->\n",
       "<g id=\"node6\" class=\"node\">\n",
       "<title>p11x2</title>\n",
       "<path fill=\"none\" stroke=\"black\" d=\"M318.5,-198C318.5,-198 285.25,-198 285.25,-198 279.25,-198 273.25,-192 273.25,-186 273.25,-186 273.25,-174 273.25,-174 273.25,-168 279.25,-162 285.25,-162 285.25,-162 318.5,-162 318.5,-162 324.5,-162 330.5,-168 330.5,-174 330.5,-174 330.5,-186 330.5,-186 330.5,-192 324.5,-198 318.5,-198\"/>\n",
       "<text text-anchor=\"middle\" x=\"301.88\" y=\"-174.2\" font-family=\"sans-serif\" font-size=\"14.00\" fill=\"#333333\">x2=1.4</text>\n",
       "</g>\n",
       "<!-- p11&#45;&#45;p11x2 -->\n",
       "<g id=\"edge6\" class=\"edge\">\n",
       "<title>p11&#45;&#45;p11x2</title>\n",
       "<path fill=\"none\" stroke=\"black\" d=\"M237.66,-160.95C248.71,-164.28 261.56,-168.16 272.79,-171.54\"/>\n",
       "</g>\n",
       "<!-- p11x3 -->\n",
       "<g id=\"node7\" class=\"node\">\n",
       "<title>p11x3</title>\n",
       "<path fill=\"none\" stroke=\"black\" d=\"M318.5,-144C318.5,-144 285.25,-144 285.25,-144 279.25,-144 273.25,-138 273.25,-132 273.25,-132 273.25,-120 273.25,-120 273.25,-114 279.25,-108 285.25,-108 285.25,-108 318.5,-108 318.5,-108 324.5,-108 330.5,-114 330.5,-120 330.5,-120 330.5,-132 330.5,-132 330.5,-138 324.5,-144 318.5,-144\"/>\n",
       "<text text-anchor=\"middle\" x=\"301.88\" y=\"-120.2\" font-family=\"sans-serif\" font-size=\"14.00\" fill=\"#333333\">x3=1.6</text>\n",
       "</g>\n",
       "<!-- p11&#45;&#45;p11x3 -->\n",
       "<g id=\"edge7\" class=\"edge\">\n",
       "<title>p11&#45;&#45;p11x3</title>\n",
       "<path fill=\"none\" stroke=\"black\" d=\"M237.66,-145.05C248.71,-141.72 261.56,-137.84 272.79,-134.46\"/>\n",
       "</g>\n",
       "</g>\n",
       "</svg>\n"
      ],
      "text/plain": [
       "<graphviz.graphs.Graph at 0x16e8a5430>"
      ]
     },
     "execution_count": 107,
     "metadata": {},
     "output_type": "execute_result"
    }
   ],
   "source": [
    "import graphviz\n",
    "from graphviz import Graph\n",
    "\n",
    "dot = graphviz.Graph('G', filename='hello.gv')\n",
    "\n",
    "dot.attr('node', shape='box', style='rounded', fontname='sans-serif', fontcolor='gray20')\n",
    "dot.graph_attr['rankdir'] = 'LR'\n",
    "\n",
    "dot.node('p0',label='P0')\n",
    "dot.node('p0x1',label='x1=1.4')\n",
    "dot.node('p0x2',label='x2=2.5')\n",
    "dot.node('p0x3',label='x3=.8')\n",
    "\n",
    "dot.node('p11', label='P11')\n",
    "dot.node('p11x2', label='x2=1.4')\n",
    "dot.node('p11x3', label='x3=1.6')\n",
    "\n",
    "dot.node('p12', label='P12')\n",
    "\n",
    "dot.edge('p0','p0x1')\n",
    "dot.edge('p0','p0x2')\n",
    "dot.edge('p0','p0x3')\n",
    "dot.edge('p0x1','p11')\n",
    "dot.edge('p0x1','p12')\n",
    "dot.edge('p11','p11x2')\n",
    "dot.edge('p11', 'p11x3')\n",
    "\n",
    "dot"
   ]
  }
 ],
 "metadata": {
  "kernelspec": {
   "display_name": "Python 3",
   "language": "python",
   "name": "python3"
  },
  "language_info": {
   "codemirror_mode": {
    "name": "ipython",
    "version": 3
   },
   "file_extension": ".py",
   "mimetype": "text/x-python",
   "name": "python",
   "nbconvert_exporter": "python",
   "pygments_lexer": "ipython3",
   "version": "3.9.6"
  },
  "orig_nbformat": 4
 },
 "nbformat": 4,
 "nbformat_minor": 2
}
