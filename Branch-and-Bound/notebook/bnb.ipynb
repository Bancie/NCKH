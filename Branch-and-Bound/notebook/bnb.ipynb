{
 "cells": [
  {
   "cell_type": "markdown",
   "metadata": {},
   "source": [
    "# Land-Doig Algorithm"
   ]
  },
  {
   "cell_type": "markdown",
   "metadata": {},
   "source": [
    "## Abstract"
   ]
  },
  {
   "cell_type": "markdown",
   "metadata": {},
   "source": [
    "- Introduce about 2 main models for solving ILP:\n",
    "    - Pure Integer Linear Programming.\n",
    "    - Mixed Integer Linear Programming.\n",
    "- Focus on solving ILP through Branch-and-Bound Algorithm."
   ]
  },
  {
   "cell_type": "markdown",
   "metadata": {},
   "source": [
    "## Content\n",
    "- Introduction\n",
    "- Main goals\n",
    "- Lang-Doig Algorithm"
   ]
  },
  {
   "cell_type": "markdown",
   "metadata": {},
   "source": [
    "## Introduction"
   ]
  },
  {
   "cell_type": "markdown",
   "metadata": {},
   "source": [
    "### Pure integer linear program"
   ]
  },
  {
   "cell_type": "markdown",
   "metadata": {},
   "source": [
    "$$\n",
    "\\begin{split}\n",
    "(H) \\quad & z_h=c^Tx \\quad \\longrightarrow Max \\\\\n",
    "    & \\left\\{\\begin{split}\n",
    "    &Ax \\leq  b, \\\\\n",
    "    &x \\geq 0, \\text{ nguyên} \\\\\n",
    "    \\end{split}\\right.    \n",
    "\\end{split}\n",
    "$$\n",
    "Parameters: \n",
    "- $$ $$"
   ]
  }
 ],
 "metadata": {
  "language_info": {
   "name": "python"
  },
  "orig_nbformat": 4
 },
 "nbformat": 4,
 "nbformat_minor": 2
}
